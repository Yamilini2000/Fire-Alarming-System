{
 "cells": [
  {
   "cell_type": "code",
   "execution_count": 1,
   "id": "vital-neutral",
   "metadata": {},
   "outputs": [],
   "source": [
    "# importing the necessary packages\n",
    "import os\n",
    "import cv2\n",
    "import emoji\n",
    "import smtplib\n",
    "import requests\n",
    "from playsound import playsound\n",
    "import numpy as np\n",
    "import pywhatkit as wp\n",
    "import multiprocessing\n",
    "from datetime import datetime\n",
    "from keras.models import load_model    "
   ]
  },
  {
   "cell_type": "code",
   "execution_count": 2,
   "id": "emerging-coverage",
   "metadata": {},
   "outputs": [],
   "source": [
    "# setting the environment\n",
    "os.environ['TF_CPP_MIN_LOG_LEVEL'] = '2'"
   ]
  },
  {
   "cell_type": "code",
   "execution_count": 3,
   "id": "tender-champagne",
   "metadata": {},
   "outputs": [],
   "source": [
    "# function to make prediction\n",
    "def make_prediction(image, model, class_dictionary):\n",
    "    img = image / 255.\n",
    "\n",
    "    # convert to 4D tensor\n",
    "    image = np.expand_dims(img, axis=0)\n",
    "\n",
    "    # train\n",
    "    class_predicted = model.predict(image)\n",
    "    inID = np.argmax(class_predicted[0])\n",
    "    label = class_dictionary[inID]\n",
    "    return label"
   ]
  },
  {
   "cell_type": "code",
   "execution_count": 4,
   "id": "forty-faculty",
   "metadata": {},
   "outputs": [],
   "source": [
    "# function for loading the weights\n",
    "weights_path = 'C:/Users/Ananda/PROJECTS/Miniproject/Fire Recognition/fireS'\n",
    "def keras_model(weights_path):\n",
    "    model = load_model(weights_path)\n",
    "    return model"
   ]
  },
  {
   "cell_type": "code",
   "execution_count": 5,
   "id": "crazy-texture",
   "metadata": {},
   "outputs": [],
   "source": [
    "# initialising the classes\n",
    "class_dictionary = {}\n",
    "class_dictionary[0] = 'fire'\n",
    "class_dictionary[1] = 'not a fire'\n",
    "model = keras_model(weights_path)"
   ]
  },
  {
   "cell_type": "code",
   "execution_count": 6,
   "id": "competitive-render",
   "metadata": {},
   "outputs": [],
   "source": [
    "# initialising necessary data structure and flags\n",
    "queue = [0,0,0]\n",
    "fire_reported = 0\n",
    "alarm_status = False\n",
    "email_status = False"
   ]
  },
  {
   "cell_type": "code",
   "execution_count": 7,
   "id": "coupled-lindsay",
   "metadata": {},
   "outputs": [],
   "source": [
    "# initialising variables\n",
    "res = requests.get('https://ipinfo.io/')\n",
    "data = res.json()\n",
    "loc = data['loc'].split(',')\n",
    "lat = loc[0]\n",
    "long = loc[1]\n",
    "mail_message = 'Fire occured in ABC company.\\nLocation : No.6, Vivekanandar Theru, Dubai Kurukku Sandhu, Dubai Main Road, Dubai.\\nLATITUDE : '+lat+'\\tLONGITUDE : '+long"
   ]
  },
  {
   "cell_type": "code",
   "execution_count": 8,
   "id": "velvet-spyware",
   "metadata": {},
   "outputs": [],
   "source": [
    "# function to send messages through mail and whatsapp\n",
    "def notify():\n",
    "    to_email = \"receiver’s_mail_id\"\n",
    "    to_email = to_email.lower()\n",
    "    try:\n",
    "        server = smtplib.SMTP('smtp.gmail.com', 587)\n",
    "        server.ehlo()\n",
    "        server.starttls()\n",
    "        server.login('your_mail_id','your_mail_password')\n",
    "        server.sendmail('your_mail_id', to_email,mail_message)\n",
    "        print(\"Email sent to \" + to_email)\n",
    "        server.close()\n",
    "        wp.sendwhatmsg(\"+918072016263\",emoji.emojize(\":loudspeaker::loudspeaker: :loudspeaker:\\n\\nFire :fire: occured in ABC company.\\nLocation : No.6, Vivekanandar Theru, Dubai Kurukku Sandhu, Dubai Main Road, Dubai.\\nLATITUDE : \") + lat + \"\\tLONGITUDE : \" + long + emoji.emojize(\"\\n\\n:police_car_light::police_car_light::police_car_light:\"),datetime.now().hour,datetime.now().minute+1,4)\n",
    "        print(\"Whatsapp message sent!!\")\n",
    "    except Exception as e:\n",
    "        print(e)"
   ]
  },
  {
   "cell_type": "code",
   "execution_count": 9,
   "id": "twelve-purchase",
   "metadata": {},
   "outputs": [],
   "source": [
    "# starting the video capture\n",
    "cap = cv2.VideoCapture(0)\n",
    "while True:\n",
    "    _, frame = cap.read()\n",
    "    frame = cv2.resize(frame, (200, 200))\n",
    "    hsv = cv2.cvtColor(frame, cv2.COLOR_BGR2HSV)    \n",
    "    # Mask making\n",
    "    l_m = np.array([0, 120, 200])\n",
    "    u_m = np.array([50, 250, 250])\n",
    "    mask = cv2.inRange(hsv, l_m, u_m)\n",
    "    # Image morphology operation\n",
    "    kernel1 = np.ones((15, 15), np.uint8)\n",
    "    mask = cv2.morphologyEx(mask, cv2.MORPH_CLOSE, kernel1)\n",
    "    res = cv2.bitwise_and(frame, frame, mask=mask)\n",
    "    img = frame.copy()\n",
    "    ret, thresh = cv2.threshold(mask, 0, 255, cv2.THRESH_BINARY)\n",
    "    contours, _ = cv2.findContours(thresh, cv2.RETR_EXTERNAL, cv2.CHAIN_APPROX_SIMPLE)\n",
    "    for cnt in contours:\n",
    "        l = cv2.arcLength(cnt, True)        \n",
    "        if l > 51:\n",
    "            x, y, w, h = cv2.boundingRect(cnt)            \n",
    "            # CNN data input\n",
    "            img_test = frame[y:y + h, x:x + w]\n",
    "            img_test = cv2.resize(img_test, (224, 224))\n",
    "            label = make_prediction(img_test, model, class_dictionary)            \n",
    "            if label == 'fire':\n",
    "                img = cv2.rectangle(img, (x, y), (x + w, y + h), (0, 0, 255), 2)\n",
    "                cv2.putText(img, \"Fire\", (x, y), cv2.FONT_HERSHEY_SIMPLEX, 0.7, (0, 0, 255), 2)\n",
    "                area = (x+w) * (y+h)\n",
    "                if len(queue) == 3:\n",
    "                    queue.pop(0)\n",
    "                queue.append(area)\n",
    "                if queue[0] < queue[1] < queue[2] and 0 not in queue:\n",
    "                    fire_reported = 1\n",
    "                    if fire_reported == 1:    \n",
    "                        if alarm_status == False and email_status == False:\n",
    "                            multiprocessing.Process(target=playsound, args=(\"Fire Alarm.mp3\",)).start()\n",
    "                            alarm_status = True\n",
    "                            multiprocessing.Process(target=notify()).start()\n",
    "                            email_status = True                           \n",
    "            else:\n",
    "                img = cv2.rectangle(img, (x, y), (x + w, y + h), (0, 255, 0), 2)\n",
    "                cv2.putText(img, \"Not a Fire\", (x, y), cv2.FONT_HERSHEY_SIMPLEX, 0.7, (0, 255, 0), 2)\n",
    "    cv2.imshow(\"img\", img)\n",
    "    if cv2.waitKey(1) & 0xFF == ord(\"q\"):\n",
    "        break        \n",
    "cv2.destroyAllWindows()\n",
    "cap.release()"
   ]
  },
  {
   "cell_type": "code",
   "execution_count": null,
   "id": "proper-reading",
   "metadata": {},
   "outputs": [],
   "source": []
  }
 ],
 "metadata": {
  "kernelspec": {
   "display_name": "Python 3",
   "language": "python",
   "name": "python3"
  },
  "language_info": {
   "codemirror_mode": {
    "name": "ipython",
    "version": 3
   },
   "file_extension": ".py",
   "mimetype": "text/x-python",
   "name": "python",
   "nbconvert_exporter": "python",
   "pygments_lexer": "ipython3",
   "version": "3.8.8"
  }
 },
 "nbformat": 4,
 "nbformat_minor": 5
}
