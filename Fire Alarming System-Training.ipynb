{
 "cells": [
  {
   "cell_type": "code",
   "execution_count": 1,
   "id": "wanted-contractor",
   "metadata": {},
   "outputs": [],
   "source": [
    "# import the necessary packages\n",
    "from tensorflow.keras.preprocessing.image import ImageDataGenerator\n",
    "from tensorflow.keras.applications import MobileNetV2\n",
    "from tensorflow.keras.layers import AveragePooling2D\n",
    "from tensorflow.keras.layers import Dropout\n",
    "from tensorflow.keras.layers import Flatten\n",
    "from tensorflow.keras.layers import Dense\n",
    "from tensorflow.keras.layers import Input\n",
    "from tensorflow.keras.models import Model\n",
    "from tensorflow.keras.optimizers import Adam\n",
    "from tensorflow.keras.applications.mobilenet_v2 import preprocess_input\n",
    "from tensorflow.keras.preprocessing.image import img_to_array\n",
    "from tensorflow.keras.preprocessing.image import load_img\n",
    "from tensorflow.keras.utils import to_categorical\n",
    "from sklearn.preprocessing import LabelBinarizer\n",
    "from sklearn.model_selection import train_test_split\n",
    "from sklearn.metrics import classification_report\n",
    "from imutils import paths\n",
    "import matplotlib.pyplot as plt\n",
    "import numpy as np\n",
    "import os"
   ]
  },
  {
   "cell_type": "code",
   "execution_count": 2,
   "id": "apart-dressing",
   "metadata": {},
   "outputs": [],
   "source": [
    "# initialize the initial learning rate, number of epochs to train for and batch size\n",
    "INIT_LR = 1e-4\n",
    "EPOCHS = 20\n",
    "BS = 32\n",
    "DIRECTORY = r\"D:\\DATASETS\\Fire Dataset\"\n",
    "CATEGORIES = [\"FIRE\", \"NO_FIRE\"]"
   ]
  },
  {
   "cell_type": "code",
   "execution_count": 3,
   "id": "pleasant-sierra",
   "metadata": {},
   "outputs": [
    {
     "name": "stdout",
     "output_type": "stream",
     "text": [
      "[INFO] loading images...\n"
     ]
    }
   ],
   "source": [
    "# grab the list of images in our dataset directory, then initialize the list of data (i.e., images) and class images\n",
    "print(\"[INFO] loading images...\")\n",
    "\n",
    "data = []\n",
    "labels = []\n",
    "\n",
    "for category in CATEGORIES:\n",
    "    path = os.path.join(DIRECTORY, category)\n",
    "    for img in os.listdir(path):\n",
    "        img_path = os.path.join(path, img)\n",
    "        image = load_img(img_path, target_size=(224, 224))\n",
    "        image = img_to_array(image)\n",
    "        image = preprocess_input(image)\n",
    "\n",
    "        data.append(image)\n",
    "        labels.append(category)"
   ]
  },
  {
   "cell_type": "code",
   "execution_count": 4,
   "id": "infrared-canyon",
   "metadata": {},
   "outputs": [],
   "source": [
    "# perform one-hot encoding on the labels\n",
    "lb = LabelBinarizer()\n",
    "labels = lb.fit_transform(labels)\n",
    "labels = to_categorical(labels)\n",
    "\n",
    "data = np.array(data, dtype=\"float32\")\n",
    "labels = np.array(labels)\n",
    "\n",
    "(trainX, testX, trainY, testY) = train_test_split(data, labels,\n",
    "    test_size=0.20, stratify=labels, random_state=42)"
   ]
  },
  {
   "cell_type": "code",
   "execution_count": 5,
   "id": "sapphire-constant",
   "metadata": {},
   "outputs": [],
   "source": [
    "# construct the training image generator for data augmentation\n",
    "aug = ImageDataGenerator(\n",
    "    rotation_range=20,\n",
    "    zoom_range=0.15,\n",
    "    width_shift_range=0.2,\n",
    "    height_shift_range=0.2,\n",
    "    shear_range=0.15,\n",
    "    horizontal_flip=True,\n",
    "    fill_mode=\"nearest\")"
   ]
  },
  {
   "cell_type": "code",
   "execution_count": 6,
   "id": "oriental-terminal",
   "metadata": {},
   "outputs": [
    {
     "name": "stdout",
     "output_type": "stream",
     "text": [
      "WARNING:tensorflow:`input_shape` is undefined or non-square, or `rows` is not in [96, 128, 160, 192, 224]. Weights for input shape (224, 224) will be loaded as the default.\n"
     ]
    }
   ],
   "source": [
    "# load the MobileNetV2 network, ensuring the head FC layer sets are left off\n",
    "baseModel = MobileNetV2(weights=\"imagenet\", include_top=False,\n",
    "    input_tensor=Input(shape=(224, 224, 3)))"
   ]
  },
  {
   "cell_type": "code",
   "execution_count": 7,
   "id": "deluxe-collins",
   "metadata": {},
   "outputs": [],
   "source": [
    "# construct the head of the model that will be placed on top of the the base model\n",
    "headModel = baseModel.output\n",
    "headModel = AveragePooling2D(pool_size=(7, 7))(headModel)\n",
    "headModel = Flatten(name=\"flatten\")(headModel)\n",
    "headModel = Dense(128, activation=\"relu\")(headModel)\n",
    "headModel = Dropout(0.5)(headModel)\n",
    "headModel = Dense(2, activation=\"softmax\")(headModel)"
   ]
  },
  {
   "cell_type": "code",
   "execution_count": 8,
   "id": "headed-kelly",
   "metadata": {},
   "outputs": [],
   "source": [
    "# place the head FC model on top of the base model (this will become the actual model we will train)\n",
    "model = Model(inputs=baseModel.input, outputs=headModel)"
   ]
  },
  {
   "cell_type": "code",
   "execution_count": 9,
   "id": "senior-laser",
   "metadata": {},
   "outputs": [],
   "source": [
    "# loop over all layers in the base model and freeze them so they will *not* be updated during the first training process\n",
    "for layer in baseModel.layers:\n",
    "    layer.trainable = False"
   ]
  },
  {
   "cell_type": "code",
   "execution_count": 10,
   "id": "liberal-buyer",
   "metadata": {},
   "outputs": [
    {
     "name": "stdout",
     "output_type": "stream",
     "text": [
      "[INFO] compiling model...\n"
     ]
    }
   ],
   "source": [
    "# compile our model\n",
    "print(\"[INFO] compiling model...\")\n",
    "opt = Adam(lr=INIT_LR, decay=INIT_LR / EPOCHS)\n",
    "model.compile(loss=\"binary_crossentropy\", optimizer=opt,\n",
    "    metrics=[\"accuracy\"])"
   ]
  },
  {
   "cell_type": "code",
   "execution_count": 11,
   "id": "requested-rates",
   "metadata": {},
   "outputs": [
    {
     "name": "stdout",
     "output_type": "stream",
     "text": [
      "[INFO] training head...\n",
      "Epoch 1/20\n",
      "36/36 [==============================] - 23s 641ms/step - loss: 0.8307 - accuracy: 0.6525 - val_loss: 0.3632 - val_accuracy: 0.8552\n",
      "Epoch 2/20\n",
      "36/36 [==============================] - 22s 619ms/step - loss: 0.4436 - accuracy: 0.8014 - val_loss: 0.2291 - val_accuracy: 0.9069\n",
      "Epoch 3/20\n",
      "36/36 [==============================] - 22s 620ms/step - loss: 0.2982 - accuracy: 0.8750 - val_loss: 0.1833 - val_accuracy: 0.9310\n",
      "Epoch 4/20\n",
      "36/36 [==============================] - 22s 624ms/step - loss: 0.2466 - accuracy: 0.8936 - val_loss: 0.1549 - val_accuracy: 0.9448\n",
      "Epoch 5/20\n",
      "36/36 [==============================] - 23s 637ms/step - loss: 0.2064 - accuracy: 0.9158 - val_loss: 0.1400 - val_accuracy: 0.9586\n",
      "Epoch 6/20\n",
      "36/36 [==============================] - 23s 640ms/step - loss: 0.1787 - accuracy: 0.9273 - val_loss: 0.1288 - val_accuracy: 0.9655\n",
      "Epoch 7/20\n",
      "36/36 [==============================] - 24s 667ms/step - loss: 0.1594 - accuracy: 0.9397 - val_loss: 0.1206 - val_accuracy: 0.9586\n",
      "Epoch 8/20\n",
      "36/36 [==============================] - 24s 665ms/step - loss: 0.1681 - accuracy: 0.9335 - val_loss: 0.1183 - val_accuracy: 0.9724\n",
      "Epoch 9/20\n",
      "36/36 [==============================] - 24s 658ms/step - loss: 0.1416 - accuracy: 0.9459 - val_loss: 0.1104 - val_accuracy: 0.9655\n",
      "Epoch 10/20\n",
      "36/36 [==============================] - 24s 666ms/step - loss: 0.1406 - accuracy: 0.9512 - val_loss: 0.1063 - val_accuracy: 0.9621\n",
      "Epoch 11/20\n",
      "36/36 [==============================] - 22s 606ms/step - loss: 0.1244 - accuracy: 0.9512 - val_loss: 0.1021 - val_accuracy: 0.9621\n",
      "Epoch 12/20\n",
      "36/36 [==============================] - 22s 606ms/step - loss: 0.1247 - accuracy: 0.9504 - val_loss: 0.1024 - val_accuracy: 0.9586\n",
      "Epoch 13/20\n",
      "36/36 [==============================] - 22s 606ms/step - loss: 0.1269 - accuracy: 0.9512 - val_loss: 0.0962 - val_accuracy: 0.9724\n",
      "Epoch 14/20\n",
      "36/36 [==============================] - 22s 609ms/step - loss: 0.1033 - accuracy: 0.9610 - val_loss: 0.0946 - val_accuracy: 0.9655\n",
      "Epoch 15/20\n",
      "36/36 [==============================] - 22s 602ms/step - loss: 0.1252 - accuracy: 0.9521 - val_loss: 0.0914 - val_accuracy: 0.9690\n",
      "Epoch 16/20\n",
      "36/36 [==============================] - 22s 619ms/step - loss: 0.1092 - accuracy: 0.9574 - val_loss: 0.0906 - val_accuracy: 0.9621\n",
      "Epoch 17/20\n",
      "36/36 [==============================] - 22s 604ms/step - loss: 0.0839 - accuracy: 0.9743 - val_loss: 0.0882 - val_accuracy: 0.9655\n",
      "Epoch 18/20\n",
      "36/36 [==============================] - 22s 602ms/step - loss: 0.1118 - accuracy: 0.9574 - val_loss: 0.0875 - val_accuracy: 0.9724\n",
      "Epoch 19/20\n",
      "36/36 [==============================] - 22s 604ms/step - loss: 0.1099 - accuracy: 0.9574 - val_loss: 0.0933 - val_accuracy: 0.9621\n",
      "Epoch 20/20\n",
      "36/36 [==============================] - 22s 605ms/step - loss: 0.0923 - accuracy: 0.9699 - val_loss: 0.0916 - val_accuracy: 0.9621\n"
     ]
    }
   ],
   "source": [
    "# train the head of the network\n",
    "print(\"[INFO] training head...\")\n",
    "H = model.fit(\n",
    "    aug.flow(trainX, trainY, batch_size=BS),\n",
    "    steps_per_epoch=len(trainX) // BS,\n",
    "    validation_data=(testX, testY),\n",
    "    validation_steps=len(testX) // BS,\n",
    "    epochs=EPOCHS)"
   ]
  },
  {
   "cell_type": "code",
   "execution_count": 12,
   "id": "primary-number",
   "metadata": {},
   "outputs": [
    {
     "name": "stdout",
     "output_type": "stream",
     "text": [
      "[INFO] evaluating network...\n"
     ]
    }
   ],
   "source": [
    "# make predictions on the testing set\n",
    "print(\"[INFO] evaluating network...\")\n",
    "predIdxs = model.predict(testX, batch_size=BS)"
   ]
  },
  {
   "cell_type": "code",
   "execution_count": 13,
   "id": "published-article",
   "metadata": {},
   "outputs": [],
   "source": [
    "# for each image in the testing set we need to find the index of the label with corresponding largest predicted probability\n",
    "predIdxs = np.argmax(predIdxs, axis=1)"
   ]
  },
  {
   "cell_type": "code",
   "execution_count": 14,
   "id": "designed-affiliate",
   "metadata": {},
   "outputs": [
    {
     "name": "stdout",
     "output_type": "stream",
     "text": [
      "              precision    recall  f1-score   support\n",
      "\n",
      "        FIRE       0.98      0.90      0.94        90\n",
      "     NO_FIRE       0.96      0.99      0.97       200\n",
      "\n",
      "    accuracy                           0.96       290\n",
      "   macro avg       0.97      0.95      0.95       290\n",
      "weighted avg       0.96      0.96      0.96       290\n",
      "\n"
     ]
    }
   ],
   "source": [
    "# show a nicely formatted classification report\n",
    "print(classification_report(testY.argmax(axis=1), predIdxs, target_names=lb.classes_))"
   ]
  },
  {
   "cell_type": "code",
   "execution_count": 15,
   "id": "ultimate-gallery",
   "metadata": {},
   "outputs": [
    {
     "name": "stdout",
     "output_type": "stream",
     "text": [
      "[INFO] saving mask detector model...\n"
     ]
    }
   ],
   "source": [
    "# serialize the model to disk\n",
    "print(\"[INFO] saving mask detector model...\")\n",
    "model.save(\"fire\", save_format=\"h5\")"
   ]
  },
  {
   "cell_type": "code",
   "execution_count": 16,
   "id": "formal-lithuania",
   "metadata": {},
   "outputs": [
    {
     "data": {
      "image/png": "[encoded data removed]",
      "text/plain": [
       "<Figure size 432x288 with 1 Axes>"
      ]
     },
     "metadata": {},
     "output_type": "display_data"
    }
   ],
   "source": [
    "# plot the training loss and accuracy\n",
    "N = EPOCHS\n",
    "plt.style.use(\"ggplot\")\n",
    "plt.figure()\n",
    "plt.plot(np.arange(0, N), H.history[\"loss\"], label=\"train_loss\")\n",
    "plt.plot(np.arange(0, N), H.history[\"val_loss\"], label=\"val_loss\")\n",
    "plt.plot(np.arange(0, N), H.history[\"accuracy\"], label=\"train_acc\")\n",
    "plt.plot(np.arange(0, N), H.history[\"val_accuracy\"], label=\"val_acc\")\n",
    "plt.title(\"Training Loss and Accuracy\")\n",
    "plt.xlabel(\"Epoch\")\n",
    "plt.ylabel(\"Loss/Accuracy\")\n",
    "plt.legend(loc=\"lower left\")\n",
    "plt.savefig(\"plot.png\")"
   ]
  },
  {
   "cell_type": "code",
   "execution_count": null,
   "id": "tired-street",
   "metadata": {},
   "outputs": [],
   "source": []
  }
 ],
 "metadata": {
  "kernelspec": {
   "display_name": "Python 3",
   "language": "python",
   "name": "python3"
  },
  "language_info": {
   "codemirror_mode": {
    "name": "ipython",
    "version": 3
   },
   "file_extension": ".py",
   "mimetype": "text/x-python",
   "name": "python",
   "nbconvert_exporter": "python",
   "pygments_lexer": "ipython3",
   "version": "3.8.8"
  }
 },
 "nbformat": 4,
 "nbformat_minor": 5
}
